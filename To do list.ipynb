{
 "cells": [
  {
   "cell_type": "code",
   "execution_count": 1,
   "id": "a8c079d9",
   "metadata": {},
   "outputs": [],
   "source": [
    "import tkinter as tk\n",
    "\n",
    "root = tk.Tk()\n",
    "root.title(\"To Do List\")\n",
    "\n",
    "frame = tk.Frame(root)\n",
    "frame.pack(padx=50,pady=20)\n",
    "\n",
    "for i in range(8):\n",
    "    frame.rowconfigure(i,pad=10)\n",
    "def add():\n",
    "    task = enter.get()\n",
    "    if task:\n",
    "        listbox.insert(tk.END,task)\n",
    "        enter.delete(0,tk.END)\n",
    "def remove():\n",
    "    select = listbox.curselection()\n",
    "    if select:\n",
    "        listbox.delete(select)\n",
    "enter=tk.Entry(frame,width = 50)\n",
    "enter.grid(row=0,column=0)\n",
    "\n",
    "add_b = tk.Button(frame,text='ADD',command = add)\n",
    "add_b.grid(row = 1,column=0)\n",
    "\n",
    "listbox = tk.Listbox(frame,selectmode=tk.SINGLE,width = 30,height=8)\n",
    "listbox.grid(row=2,column=0)\n",
    "\n",
    "lable = tk.Label(frame,text = \"Select any one task for remove\")\n",
    "lable.grid(row=3,column=0)\n",
    "\n",
    "remove_b = tk.Button(frame,text = \"Remove\",command=remove)\n",
    "remove_b.grid(row=5,column=0)\n",
    "\n",
    "root.mainloop()"
   ]
  },
  {
   "cell_type": "code",
   "execution_count": null,
   "id": "f95f224d",
   "metadata": {},
   "outputs": [],
   "source": []
  }
 ],
 "metadata": {
  "kernelspec": {
   "display_name": "Python 3 (ipykernel)",
   "language": "python",
   "name": "python3"
  },
  "language_info": {
   "codemirror_mode": {
    "name": "ipython",
    "version": 3
   },
   "file_extension": ".py",
   "mimetype": "text/x-python",
   "name": "python",
   "nbconvert_exporter": "python",
   "pygments_lexer": "ipython3",
   "version": "3.7.16"
  }
 },
 "nbformat": 4,
 "nbformat_minor": 5
}
